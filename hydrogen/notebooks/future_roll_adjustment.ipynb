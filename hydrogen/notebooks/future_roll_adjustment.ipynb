{
 "cells": [
  {
   "cell_type": "code",
   "execution_count": 2,
   "metadata": {
    "collapsed": true
   },
   "outputs": [
    {
     "name": "stdout",
     "output_type": "stream",
     "text": [
      "The autoreload extension is already loaded. To reload it, use:\n  %reload_ext autoreload\n"
     ]
    }
   ],
   "source": [
    "%load_ext autoreload   \n",
    "%autoreload 2\n",
    "%matplotlib inline\n",
    "    \n",
    "    \n",
    "import os\n",
    "import sys\n",
    "from blp import blp\n",
    "import pandas as pd\n",
    "from pandas.tseries.offsets import BDay\n",
    "import seaborn as sns\n",
    "import hydrogen.dateutils\n",
    "from hydrogen.instrument import Future"
   ]
  },
  {
   "cell_type": "code",
   "execution_count": 3,
   "metadata": {},
   "outputs": [
    {
     "data": {
      "text/html": [
       "<div>\n",
       "<table border=\"1\" class=\"dataframe\">\n",
       "  <thead>\n",
       "    <tr style=\"text-align: right;\">\n",
       "      <th></th>\n",
       "      <th>TICKER</th>\n",
       "      <th>ROLL_DATE</th>\n",
       "      <th>START_DATE</th>\n",
       "      <th>END_DATE</th>\n",
       "      <th>NEXT_TICKER</th>\n",
       "    </tr>\n",
       "  </thead>\n",
       "  <tbody>\n",
       "    <tr>\n",
       "      <th>476</th>\n",
       "      <td>Z H6 Index</td>\n",
       "      <td>2016-03-18</td>\n",
       "      <td>2015-12-18</td>\n",
       "      <td>2016-03-17</td>\n",
       "      <td>Z M6 Index</td>\n",
       "    </tr>\n",
       "    <tr>\n",
       "      <th>477</th>\n",
       "      <td>Z M6 Index</td>\n",
       "      <td>2016-06-17</td>\n",
       "      <td>2016-03-18</td>\n",
       "      <td>2016-06-16</td>\n",
       "      <td>Z U6 Index</td>\n",
       "    </tr>\n",
       "    <tr>\n",
       "      <th>478</th>\n",
       "      <td>Z U6 Index</td>\n",
       "      <td>2016-09-16</td>\n",
       "      <td>2016-06-17</td>\n",
       "      <td>2016-09-15</td>\n",
       "      <td>Z Z6 Index</td>\n",
       "    </tr>\n",
       "    <tr>\n",
       "      <th>479</th>\n",
       "      <td>Z Z6 Index</td>\n",
       "      <td>2016-12-16</td>\n",
       "      <td>2016-09-16</td>\n",
       "      <td>2016-12-15</td>\n",
       "      <td>Z H7 Index</td>\n",
       "    </tr>\n",
       "    <tr>\n",
       "      <th>480</th>\n",
       "      <td>Z H7 Index</td>\n",
       "      <td>2017-03-17</td>\n",
       "      <td>2016-12-16</td>\n",
       "      <td>2017-03-16</td>\n",
       "      <td></td>\n",
       "    </tr>\n",
       "  </tbody>\n",
       "</table>\n",
       "</div>"
      ],
      "text/plain": [
       "<div>\n",
       "<table border=\"1\" class=\"dataframe\">\n",
       "  <thead>\n",
       "    <tr style=\"text-align: right;\">\n",
       "      <th></th>\n",
       "      <th>TICKER</th>\n",
       "      <th>ROLL_DATE</th>\n",
       "      <th>START_DATE</th>\n",
       "      <th>END_DATE</th>\n",
       "      <th>NEXT_TICKER</th>\n",
       "    </tr>\n",
       "  </thead>\n",
       "  <tbody>\n",
       "    <tr>\n",
       "      <th>476</th>\n",
       "      <td>Z H6 Index</td>\n",
       "      <td>2016-03-18</td>\n",
       "      <td>2015-12-18</td>\n",
       "      <td>2016-03-17</td>\n",
       "      <td>Z M6 Index</td>\n",
       "    </tr>\n",
       "    <tr>\n",
       "      <th>477</th>\n",
       "      <td>Z M6 Index</td>\n",
       "      <td>2016-06-17</td>\n",
       "      <td>2016-03-18</td>\n",
       "      <td>2016-06-16</td>\n",
       "      <td>Z U6 Index</td>\n",
       "    </tr>\n",
       "    <tr>\n",
       "      <th>478</th>\n",
       "      <td>Z U6 Index</td>\n",
       "      <td>2016-09-16</td>\n",
       "      <td>2016-06-17</td>\n",
       "      <td>2016-09-15</td>\n",
       "      <td>Z Z6 Index</td>\n",
       "    </tr>\n",
       "    <tr>\n",
       "      <th>479</th>\n",
       "      <td>Z Z6 Index</td>\n",
       "      <td>2016-12-16</td>\n",
       "      <td>2016-09-16</td>\n",
       "      <td>2016-12-15</td>\n",
       "      <td>Z H7 Index</td>\n",
       "    </tr>\n",
       "    <tr>\n",
       "      <th>480</th>\n",
       "      <td>Z H7 Index</td>\n",
       "      <td>2017-03-17</td>\n",
       "      <td>2016-12-16</td>\n",
       "      <td>2017-03-16</td>\n",
       "      <td></td>\n",
       "    </tr>\n",
       "  </tbody>\n",
       "</table>\n",
       "</div>"
      ]
     },
     "execution_count": 3,
     "metadata": {},
     "output_type": "execute_result"
    }
   ],
   "source": [
    "#historical_trading_dates = pd.Series(df.index)\n",
    "z_future = Future('Z 1 Index')\n",
    "calendar = pd.read_csv('data/static.csv')\n",
    "calendar.FUT_NOTICE_FIRST = pd.to_datetime(calendar.FUT_NOTICE_FIRST)\n",
    "calendar = calendar[calendar.TICKER.isin(z_future.ticker_list())][[\"TICKER\", \"FUT_NOTICE_FIRST\"]]\n",
    "calendar = calendar.rename(columns={'FUT_NOTICE_FIRST':'ROLL_DATE'})\n",
    "calendar['START_DATE'] = calendar.ROLL_DATE.shift(1)\n",
    "calendar['END_DATE'] = calendar.ROLL_DATE.apply(\n",
    "    lambda x: x - BDay())\n",
    "calendar['NEXT_TICKER'] = calendar.TICKER.shift(-1)\n",
    "calendar.START_DATE = calendar.START_DATE.fillna(pd.tslib.Timestamp.min)\n",
    "calendar.NEXT_TICKER = calendar.NEXT_TICKER.fillna(\"\")\n",
    "calendar.tail()\n",
    "#    lambda x: hydrogen.dateutils.nearest_date_before(trading_dates, x))"
   ]
  },
  {
   "cell_type": "code",
   "execution_count": 4,
   "metadata": {},
   "outputs": [],
   "source": [
    "z_future = Future('Z 1 Index')\n",
    "\n",
    "def read_ohlcv(ticker, start_date, end_date):\n",
    "    res = pd.Series()\n",
    "    \n",
    "    filename = os.path.join('data', 'ohlcv', ticker+'.csv')\n",
    "    if os.path.exists(filename):\n",
    "        df = pd.read_csv(filename, index_col='DATE')\n",
    "        df.index = pd.to_datetime(df.index)\n",
    "        res = df.PX_LAST[start_date:end_date]\n",
    "    return res\n",
    "\n",
    "df_list = [ read_ohlcv(row.TICKER, row.START_DATE, row.END_DATE) for idx, row in calendar.iterrows() ]\n",
    "df = pd.concat(df_list)\n",
    "\n",
    "adj_list =  [ read_ohlcv(row.NEXT_TICKER, row.END_DATE, row.END_DATE) for idx, row in calendar.iterrows() ]"
   ]
  },
  {
   "cell_type": "code",
   "execution_count": 11,
   "metadata": {},
   "outputs": [
    {
     "data": {
      "text/plain": [
       "DATE\n2005-01-04    3970.5\n2005-01-05    3943.0\n2005-01-06    3951.0\n2005-01-07    3980.5\n2005-01-10    3966.0\ndtype: float64"
      ]
     },
     "execution_count": 11,
     "metadata": {},
     "output_type": "execute_result"
    }
   ],
   "source": [
    "adj = pd.concat(adj_list)\n",
    "adj = (adj - df.asof(adj.index))\n",
    "(df + adj[::-1].cumsum()[::-1].reindex(df.index, method='bfill').fillna(0)).head()"
   ]
  },
  {
   "cell_type": "code",
   "execution_count": 12,
   "metadata": {},
   "outputs": [
    {
     "data": {
      "text/plain": [
       "<matplotlib.axes._subplots.AxesSubplot at 0x8ce3b70>"
      ]
     },
     "execution_count": 12,
     "metadata": {},
     "output_type": "execute_result"
    },
    {
     "data": {
      "image/png": "[encoded data removed]",
      "text/plain": [
       "<matplotlib.figure.Figure at 0x91a3940>"
      ]
     },
     "metadata": {},
     "output_type": "display_data"
    }
   ],
   "source": [
    "(df + adj[::-1].cumsum()[::-1].reindex(df.index, method='bfill')).plot()"
   ]
  },
  {
   "cell_type": "code",
   "execution_count": 14,
   "metadata": {},
   "outputs": [
    {
     "data": {
      "text/plain": [
       "DATE\n2005-01-04    4164.082371\n2005-01-05    4140.395896\n2005-01-06    4147.286507\n2005-01-07    4172.695635\n2005-01-10    4160.206402\ndtype: float64"
      ]
     },
     "execution_count": 14,
     "metadata": {},
     "output_type": "execute_result"
    }
   ],
   "source": [
    "adj = pd.concat(adj_list)\n",
    "adj = (adj / df.asof(adj.index))\n",
    "(df * adj[::-1].cumprod()[::-1].reindex(df.index, method='bfill').fillna(1)).head()"
   ]
  },
  {
   "cell_type": "code",
   "execution_count": 15,
   "metadata": {},
   "outputs": [
    {
     "data": {
      "text/plain": [
       "<matplotlib.axes._subplots.AxesSubplot at 0x8e09a90>"
      ]
     },
     "execution_count": 15,
     "metadata": {},
     "output_type": "execute_result"
    },
    {
     "data": {
      "image/png": "[encoded data removed]",
      "text/plain": [
       "<matplotlib.figure.Figure at 0x89a23c8>"
      ]
     },
     "metadata": {},
     "output_type": "display_data"
    }
   ],
   "source": [
    "(df * adj[::-1].cumprod()[::-1].reindex(df.index, method='bfill').fillna(1)).plot()"
   ]
  }
 ],
 "metadata": {
  "kernelspec": {
   "display_name": "Python 2",
   "language": "python",
   "name": "python2"
  },
  "language_info": {
   "codemirror_mode": {
    "name": "ipython",
    "version": 2.0
   },
   "file_extension": ".py",
   "mimetype": "text/x-python",
   "name": "python",
   "nbconvert_exporter": "python",
   "pygments_lexer": "ipython2",
   "version": "2.7.6"
  }
 },
 "nbformat": 4,
 "nbformat_minor": 0
}